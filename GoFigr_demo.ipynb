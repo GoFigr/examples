{
  "cells": [
    {
      "cell_type": "markdown",
      "metadata": {},
      "source": [
        "# Install GoFigr\n",
        "\n",
        "You can install the official Python client with `pip`:"
      ]
    },
    {
      "cell_type": "code",
      "execution_count": null,
      "metadata": {
        "id": "5dkWizRIsmvo"
      },
      "outputs": [],
      "source": [
        "!pip install gofigr"
      ]
    },
    {
      "cell_type": "markdown",
      "metadata": {
        "id": "VzDqXMV4Hr9i"
      },
      "source": [
        "## Login\n",
        "\n",
        "Register for an account at: https://app.gofigr.io/register.\n",
        "\n",
        "Enter your username and password below. An API key will be generated for you and stored in a config file (we don't store the username/password)."
      ]
    },
    {
      "cell_type": "code",
      "execution_count": null,
      "metadata": {
        "id": "A1OMSBHbHrqL"
      },
      "outputs": [],
      "source": [
        "!gfconfig"
      ]
    },
    {
      "cell_type": "markdown",
      "metadata": {
        "id": "z3l4POD9gVDl"
      },
      "source": [
        "## Mount Google Drive\n",
        "\n",
        "In order to sync the notebook itself, it has to be accessible on the local filesystem. On CoLab, we do this by mounting Google Drive.\n",
        "\n",
        "This is optional."
      ]
    },
    {
      "cell_type": "code",
      "execution_count": null,
      "metadata": {
        "colab": {
          "base_uri": "https://localhost:8080/"
        },
        "id": "CGat1Jxfgy_K",
        "outputId": "133afedf-c423-4149-91d6-92e745a8a0d2"
      },
      "outputs": [],
      "source": [
        "from google.colab import drive\n",
        "drive.mount('/content/drive')"
      ]
    },
    {
      "cell_type": "markdown",
      "metadata": {
        "id": "gvwKLU3MfNVT"
      },
      "source": [
        "# Notebook setup\n",
        "\n",
        "Here we tell GoFigr which analysis to publish under. We also pass in the notebook path.\n",
        "\n",
        "Notebook path is inferred automatically if running in Jupyter Notebook, Jupyter Lab, or VSCode."
      ]
    },
    {
      "cell_type": "code",
      "execution_count": null,
      "metadata": {
        "colab": {
          "base_uri": "https://localhost:8080/",
          "height": 52
        },
        "id": "tmaPpcQJtADm",
        "outputId": "e332c8b2-c18e-499a-c704-f1daa6537898"
      },
      "outputs": [],
      "source": [
        "%load_ext gofigr\n",
        "from gofigr.jupyter import configure, publish, FindByName\n",
        "configure(analysis=FindByName(\"GoFigr demo\", create=True),\n",
        "          notebook_name=\"GoFigr_demo.ipynb\",\n",
        "          notebook_path=\"/content/drive/MyDrive/Colab Notebooks/GoFigr_demo.ipynb\")"
      ]
    },
    {
      "cell_type": "markdown",
      "metadata": {
        "id": "8sdyqhg2hO47"
      },
      "source": [
        "## Publishing figures\n",
        "\n",
        "That's it! GoFigr will now automatically publish your figures, no special calls necessary."
      ]
    },
    {
      "cell_type": "code",
      "execution_count": null,
      "metadata": {
        "colab": {
          "base_uri": "https://localhost:8080/",
          "height": 900
        },
        "id": "jnz6V59mtcq9",
        "outputId": "8e57d3b6-06d5-45e5-ebf3-880411fc6305"
      },
      "outputs": [],
      "source": [
        "import numpy as np\n",
        "import pandas as pd\n",
        "import matplotlib.pyplot as plt\n",
        "import seaborn as sns\n",
        "\n",
        "sns.set_theme(style=\"dark\")\n",
        "\n",
        "# Simulate data from a bivariate Gaussian\n",
        "n = 2000\n",
        "mean = [0, 0]\n",
        "cov = [(2, .4), (.4, .2)]\n",
        "rng = np.random.RandomState(0)\n",
        "x, y = rng.multivariate_normal(mean, cov, n).T\n",
        "\n",
        "plt.figure(figsize=(8, 6))\n",
        "sns.scatterplot(x=x, y=y, s=5, color=\".15\")\n",
        "sns.histplot(x=x, y=y, bins=50, pthresh=.1, cmap=\"brg\")\n",
        "sns.kdeplot(x=x, y=y, levels=5, color=\"w\", linewidths=1)\n",
        "plt.title(\"Bivariate plot\")"
      ]
    },
    {
      "cell_type": "markdown",
      "metadata": {
        "id": "rkqaddK7hnE1"
      },
      "source": [
        "## Attaching data frames\n",
        "\n",
        "You can also choose to attach data frames, which will be permanently associated with the given revision and available for download through the GoFigr portal.\n",
        "\n",
        "\n"
      ]
    },
    {
      "cell_type": "code",
      "execution_count": null,
      "metadata": {
        "colab": {
          "base_uri": "https://localhost:8080/",
          "height": 883
        },
        "id": "pYcQmUJjh-eO",
        "outputId": "54517720-5013-4d6d-d23a-252bccac7a97"
      },
      "outputs": [],
      "source": [
        "plt.figure(figsize=(8, 6))\n",
        "sns.scatterplot(x=x, y=y, s=5, color=\".15\")\n",
        "sns.histplot(x=x, y=y, bins=50, pthresh=.1, cmap=\"brg\")\n",
        "sns.kdeplot(x=x, y=y, levels=5, color=\"w\", linewidths=1)\n",
        "plt.title(\"Bivariate plot\")\n",
        "publish(fig=plt.gcf(),\n",
        "        dataframes={\"data\": pd.DataFrame({\"x\": x, \"y\": y})})"
      ]
    },
    {
      "cell_type": "markdown",
      "metadata": {
        "id": "Jg54T68IiIz8"
      },
      "source": [
        "## Plotly and interactive plot support\n"
      ]
    },
    {
      "cell_type": "code",
      "execution_count": null,
      "metadata": {
        "colab": {
          "base_uri": "https://localhost:8080/",
          "height": 807
        },
        "id": "Pyk9XU8GiLLC",
        "outputId": "37669e5b-4bca-4cbf-bd09-7e6b0658fd75"
      },
      "outputs": [],
      "source": [
        "import plotly.figure_factory as ff\n",
        "\n",
        "# Add histogram data\n",
        "x1 = np.random.randn(200) - 2\n",
        "x2 = np.random.randn(200)\n",
        "x3 = np.random.randn(200) + 2\n",
        "x4 = np.random.randn(200) + 4\n",
        "\n",
        "# Group data together\n",
        "hist_data = [x1, x2, x3, x4]\n",
        "\n",
        "group_labels = ['Group 1', 'Group 2', 'Group 3', 'Group 4']\n",
        "\n",
        "# Create distplot with custom bin_size\n",
        "fig = ff.create_distplot(hist_data, group_labels, bin_size=.2)\n",
        "fig.update_layout(\n",
        "    title=dict(text=\"Distribution plots for 4 groups\", font=dict(size=18), automargin=True, yref='paper')\n",
        ")\n",
        "publish(fig)"
      ]
    },
    {
      "cell_type": "markdown",
      "metadata": {},
      "source": [
        "## Getting help\n",
        "\n",
        "Please email maciej@gofigr.io or support@gofigr.io and we will be happy to assist!\n",
        "\n",
        "You can also visit the GitHub page at https://github.com/GoFigr/gofigr-python to submit issues."
      ]
    }
  ],
  "metadata": {
    "colab": {
      "provenance": []
    },
    "kernelspec": {
      "display_name": "Python 3",
      "name": "python3"
    },
    "language_info": {
      "name": "python"
    }
  },
  "nbformat": 4,
  "nbformat_minor": 0
}
